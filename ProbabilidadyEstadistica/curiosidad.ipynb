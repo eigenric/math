{
 "cells": [
  {
   "cell_type": "markdown",
   "metadata": {},
   "source": [
    "Conjeturamos que la variable aleatoria suma X+Y de\n",
    "dos uniformes es la que mide tal caracteristica.\n",
    "\n",
    "\n",
    "$$\n",
    "P[X=x] = 1/n \\\\\n",
    "P[Y=y] = 1/n \\\\\n",
    "P[X+Y=z]  = 1/n^2\n",
    "$$\n"
   ]
  },
  {
   "cell_type": "markdown",
   "metadata": {},
   "source": [
    "## ¿Cúal es la probabilidad de que exactamente una pareja sume 2020?\n",
    "\n",
    "### Cuantas parejas hay? \n",
    "\n",
    "$\\binom{10000}{2} \\approxeq 5e7$\n",
    "\n",
    "### Cuantas parejas suman $2020$?\n",
    "\n",
    "$$\n",
    "(0,2020) \\\\\n",
    "(1,2019) \\\\\n",
    "... \\\\\n",
    "(1009,1011) \\\\\n",
    "\\dots \\\\\n",
    "(2020, 0)\n",
    "$$\n",
    "\n",
    "$2022$ posibles parejas que suman $2020$\n",
    "\n",
    "Luego la probabilidad es \n",
    "$$\n",
    "\\frac{2022}{5e7} = 4.044e{-5}\n",
    "$$"
   ]
  },
  {
   "cell_type": "markdown",
   "metadata": {},
   "source": [
    "Tenemos $X_1, \\dots X_{10000}$ una m.a.s que sigue una uniforme discreta de valores $0,200000$\n",
    "\n",
    "la función de distribución de la muestra, y la función empírica.\n",
    "\n",
    "$$\n",
    "P^n (X_1 = x_1, \\dots, X_{10000}=x_{10000}) = \\left(\\frac{1}{200000}\\right)^{10000}\n",
    "$$\n",
    "\n",
    "\n",
    "la función empirica a partir unos valores\n",
    "\n",
    "la funcion empirica modela en número de variables que se quedan debajo de cierto x.\n",
    "\n",
    "$(X_1, X_2), (X_1, X_3), \\dots (X_1, X_{1000}), (X_2, X_3), \\dots , \\dots, (X_{9999}, X_{10000})$\n",
    "\n",
    "$(X_i + X_j)$ $i \\neq j$\n",
    "\n",
    "$$\n",
    "P[X_i + X_j = 2020] =\n",
    "P[X_i + X_j = 2020, X_i \\leq 2020, X_j \\leq 2020]"
   ]
  },
  {
   "cell_type": "markdown",
   "metadata": {},
   "source": [
    "## Regla de Bayes\n",
    "\n",
    "Partición de $A$, $B\\subset A$\n",
    "$$\n",
    "P(A/B) = \\frac{P(A \\cap B)}{\\sum_{i=0}^\\infty P(A_i) P(B/A_i)}\n",
    "$$"
   ]
  },
  {
   "cell_type": "code",
   "execution_count": 34,
   "metadata": {},
   "outputs": [],
   "source": [
    "from itertools import combinations\n",
    "from operator import mul\n",
    "from statistics import fmean\n",
    "from math import comb"
   ]
  }
 ],
 "metadata": {
  "interpreter": {
   "hash": "31f2aee4e71d21fbe5cf8b01ff0e069b9275f58929596ceb00d14d90e3e16cd6"
  },
  "kernelspec": {
   "display_name": "Python 3.8.10 64-bit",
   "name": "python3"
  },
  "language_info": {
   "codemirror_mode": {
    "name": "ipython",
    "version": 3
   },
   "file_extension": ".py",
   "mimetype": "text/x-python",
   "name": "python",
   "nbconvert_exporter": "python",
   "pygments_lexer": "ipython3",
   "version": "3.8.10"
  },
  "orig_nbformat": 4
 },
 "nbformat": 4,
 "nbformat_minor": 2
}
